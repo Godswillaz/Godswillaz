{
  "nbformat": 4,
  "nbformat_minor": 0,
  "metadata": {
    "colab": {
      "private_outputs": true,
      "provenance": [],
      "authorship_tag": "ABX9TyN3l7a4dPMzLhcUtHxtYLlB",
      "include_colab_link": true
    },
    "kernelspec": {
      "name": "python3",
      "display_name": "Python 3"
    },
    "language_info": {
      "name": "python"
    }
  },
  "cells": [
    {
      "cell_type": "markdown",
      "metadata": {
        "id": "view-in-github",
        "colab_type": "text"
      },
      "source": [
        "<a href=\"https://colab.research.google.com/github/Godswillaz/Godswillaz/blob/main/Untitled44.ipynb\" target=\"_parent\"><img src=\"https://colab.research.google.com/assets/colab-badge.svg\" alt=\"Open In Colab\"/></a>"
      ]
    },
    {
      "cell_type": "code",
      "execution_count": null,
      "metadata": {
        "id": "jsbjcOYinnos"
      },
      "outputs": [],
      "source": [
        "from google.colab import drive\n",
        "drive.mount('/content/drive')\n",
        "\n",
        "Mounted at /content/drive\n",
        "\n",
        "Loading the required libraries\n",
        "\n",
        "# Libraries to help with reading and manipulating data\n",
        "import numpy as np\n",
        "import pandas as pd\n",
        "# libaries to help with data visualization\n",
        "import matplotlib.pyplot as pyplot\n",
        "import matplotlib.pyplot as plt\n",
        "import seaborn as sns\n",
        "# Library to split data\n",
        "from sklearn.model_selection import train_test_split\n",
        "# library to import to standardize the data\n",
        "from sklearn.preprocessing import StandardScaler\n",
        "#To import different metrics\n",
        "from sklearn.metrics import explained_variance_score, mean_squared_error, r2_score, mean_absolute_error\n",
        "#Importing classback API\n",
        "from keras import callbacks\n",
        "# Importing tensorflow library\n",
        "import tensorflow as tf\n",
        "# importing different functions to build models\n",
        "from tensorflow.keras.layers import Dense, Dropout,InputLayer\n",
        "from tensorflow.keras.models import Sequential\n",
        "# Importing Batch Normalization\n",
        "from keras.layers import BatchNormalization\n",
        "# Importing backend\n",
        "from tensorflow.keras import backend\n",
        "# Importing shffule\n",
        "from random import shuffle\n",
        "from keras.callbacks import ModelCheckpoint\n",
        "# Importing optimizers\n",
        "from tensorflow.keras.optimizers import Adam\n",
        "from tensorflow.keras.optimizers import RMSprop\n",
        "# Library to avoid the warnings\n",
        "import warnings\n",
        "warnings.filterwarnings(\"ignore\")\n",
        "\n"
      ]
    }
  ]
}